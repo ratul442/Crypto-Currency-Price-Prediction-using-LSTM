{
  "nbformat": 4,
  "nbformat_minor": 5,
  "metadata": {
    "kernelspec": {
      "display_name": "Python 3",
      "language": "python",
      "name": "python3"
    },
    "language_info": {
      "codemirror_mode": {
        "name": "ipython",
        "version": 3
      },
      "file_extension": ".py",
      "mimetype": "text/x-python",
      "name": "python",
      "nbconvert_exporter": "python",
      "pygments_lexer": "ipython3",
      "version": "3.7.9"
    },
    "papermill": {
      "default_parameters": {},
      "duration": 51.06212,
      "end_time": "2021-06-06T16:36:43.128433",
      "environment_variables": {},
      "exception": null,
      "input_path": "__notebook__.ipynb",
      "output_path": "__notebook__.ipynb",
      "parameters": {},
      "start_time": "2021-06-06T16:35:52.066313",
      "version": "2.3.2"
    },
    "colab": {
      "name": "Crypto Currency Price Prediction using LSTM.ipynb",
      "provenance": []
    }
  },
  "cells": [
    {
      "cell_type": "markdown",
      "metadata": {
        "id": "eXP_jiAz1Adl"
      },
      "source": [
        "# Crypto Currency Price Prediction using LSTM"
      ],
      "id": "eXP_jiAz1Adl"
    },
    {
      "cell_type": "markdown",
      "metadata": {
        "id": "-y9O5c_gyG0h"
      },
      "source": [
        "**A cryptocurrency is a digital or virtual currency that is secured by cryptography, which makes it nearly impossible to counterfeit or double-spend. Many cryptocurrencies are decentralized networks based on blockchain technology—a distributed ledger enforced by a disparate network of computers. A defining feature of cryptocurrencies is that they are generally not issued by any central authority, rendering them theoretically immune to government interference or manipulation.**\n",
        "\n",
        "Sources :- https://www.investopedia.com/terms/c/cryptocurrency.asp\n",
        "          https://www.sciencedirect.com/science/article/abs/piiS2214212620307535"
      ],
      "id": "-y9O5c_gyG0h"
    },
    {
      "cell_type": "markdown",
      "metadata": {
        "id": "V9okuXa60or_"
      },
      "source": [
        "**A cryptocurrency is a network-based digital exchange medium, where the records are secured using strong cryptographic algorithms such as Secure Hash Algorithm 2 (SHA-2) and Message Digest 5 (MD5). It uses blockchain technology to make the transactions secure, transparent, traceable, and immutable. Due to these properties, the cryptocurrencies have gained popularity in almost all the sectors especially in financial sectors. Though, cryptocurrencies are getting recognition form the approval bodies, but still, the uncertainty and dynamism in their prices risk the investments substantially. Cryptocurrency price prediction has become a trending research topic globally.**\n",
        "\n",
        "**Many machine learning and deep learning algorithms such as Gated Recurrent Unit (GRU), Neural Networks (NN), and Long short-term memory (LSTM) have been used by the researchers to predict and analyze the factors affecting the cryptocurrency prices. In this paper, a LSTM and GRU-based hybrid cryptocurrency prediction scheme is proposed, which focuses on only two cryptocurrencies, namely Litecoin and Monero. The results depict that the proposed scheme accurately predicts the prices with high accuracy, revealing that the scheme can be applicable in various cryptocurrencies price predictions.**"
      ],
      "id": "V9okuXa60or_"
    },
    {
      "cell_type": "markdown",
      "metadata": {
        "id": "_AnTvf3sydxx"
      },
      "source": [
        "**The dataset can be downloaded from the CryptoCompare website.**\n",
        "\n",
        "The dataset contains total of 5 features. The details for them are as follows:\n",
        "\n",
        "Close Price — It is the market close price for currency for that particular day.\n",
        "\n",
        "High Price — It is highest price of currency for the day.\n",
        "\n",
        "Low Price — It is the lowest price for currency for that day.\n",
        "\n",
        "Open Price — It is market open price for currency for that day.\n",
        "\n",
        "Volume — The volume of currency that is being in trade for that day."
      ],
      "id": "_AnTvf3sydxx"
    },
    {
      "cell_type": "code",
      "metadata": {
        "id": "XPGepsTG1Jj7"
      },
      "source": [
        "import json\n",
        "import requests\n",
        "from keras.models import Sequential\n",
        "from keras.layers import Activation, Dense, Dropout, LSTM\n",
        "import matplotlib.pyplot as plt\n",
        "import numpy as np\n",
        "import pandas as pd    \n",
        "import seaborn as sns\n",
        "from sklearn.metrics import mean_absolute_error"
      ],
      "id": "XPGepsTG1Jj7",
      "execution_count": 46,
      "outputs": []
    },
    {
      "cell_type": "code",
      "metadata": {
        "execution": {
          "iopub.execute_input": "2021-06-06T16:36:02.837150Z",
          "iopub.status.busy": "2021-06-06T16:36:02.836721Z",
          "iopub.status.idle": "2021-06-06T16:36:03.542370Z",
          "shell.execute_reply": "2021-06-06T16:36:03.543192Z"
        },
        "papermill": {
          "duration": 0.719346,
          "end_time": "2021-06-06T16:36:03.543348",
          "exception": false,
          "start_time": "2021-06-06T16:36:02.824002",
          "status": "completed"
        },
        "tags": [],
        "id": "blocked-dublin"
      },
      "source": [
        "endpoint = 'https://min-api.cryptocompare.com/data/histoday'\n",
        "res = requests.get(endpoint + '?fsym=BTC&tsym=EUR&limit=500')\n",
        "hist = pd.DataFrame(json.loads(res.content)['Data'])"
      ],
      "id": "blocked-dublin",
      "execution_count": 24,
      "outputs": []
    },
    {
      "cell_type": "code",
      "metadata": {
        "colab": {
          "base_uri": "https://localhost:8080/",
          "height": 419
        },
        "id": "r46qXMhcu-cC",
        "outputId": "1c5da8f2-391f-4f37-cf85-43099ff6c807"
      },
      "source": [
        "hist"
      ],
      "id": "r46qXMhcu-cC",
      "execution_count": 25,
      "outputs": [
        {
          "output_type": "execute_result",
          "data": {
            "text/html": [
              "<div>\n",
              "<style scoped>\n",
              "    .dataframe tbody tr th:only-of-type {\n",
              "        vertical-align: middle;\n",
              "    }\n",
              "\n",
              "    .dataframe tbody tr th {\n",
              "        vertical-align: top;\n",
              "    }\n",
              "\n",
              "    .dataframe thead th {\n",
              "        text-align: right;\n",
              "    }\n",
              "</style>\n",
              "<table border=\"1\" class=\"dataframe\">\n",
              "  <thead>\n",
              "    <tr style=\"text-align: right;\">\n",
              "      <th></th>\n",
              "      <th>time</th>\n",
              "      <th>high</th>\n",
              "      <th>low</th>\n",
              "      <th>open</th>\n",
              "      <th>volumefrom</th>\n",
              "      <th>volumeto</th>\n",
              "      <th>close</th>\n",
              "      <th>conversionType</th>\n",
              "      <th>conversionSymbol</th>\n",
              "    </tr>\n",
              "  </thead>\n",
              "  <tbody>\n",
              "    <tr>\n",
              "      <th>0</th>\n",
              "      <td>1580083200</td>\n",
              "      <td>8141.73</td>\n",
              "      <td>7766.65</td>\n",
              "      <td>7797.40</td>\n",
              "      <td>9939.17</td>\n",
              "      <td>7.902302e+07</td>\n",
              "      <td>8071.02</td>\n",
              "      <td>direct</td>\n",
              "      <td></td>\n",
              "    </tr>\n",
              "    <tr>\n",
              "      <th>1</th>\n",
              "      <td>1580169600</td>\n",
              "      <td>8525.61</td>\n",
              "      <td>7889.06</td>\n",
              "      <td>8071.02</td>\n",
              "      <td>14258.93</td>\n",
              "      <td>1.170772e+08</td>\n",
              "      <td>8504.29</td>\n",
              "      <td>direct</td>\n",
              "      <td></td>\n",
              "    </tr>\n",
              "    <tr>\n",
              "      <th>2</th>\n",
              "      <td>1580256000</td>\n",
              "      <td>8563.80</td>\n",
              "      <td>8391.20</td>\n",
              "      <td>8504.29</td>\n",
              "      <td>9424.87</td>\n",
              "      <td>7.992678e+07</td>\n",
              "      <td>8433.14</td>\n",
              "      <td>direct</td>\n",
              "      <td></td>\n",
              "    </tr>\n",
              "    <tr>\n",
              "      <th>3</th>\n",
              "      <td>1580342400</td>\n",
              "      <td>8669.84</td>\n",
              "      <td>8347.96</td>\n",
              "      <td>8433.14</td>\n",
              "      <td>9790.97</td>\n",
              "      <td>8.346938e+07</td>\n",
              "      <td>8613.43</td>\n",
              "      <td>direct</td>\n",
              "      <td></td>\n",
              "    </tr>\n",
              "    <tr>\n",
              "      <th>4</th>\n",
              "      <td>1580428800</td>\n",
              "      <td>8628.21</td>\n",
              "      <td>8329.03</td>\n",
              "      <td>8613.43</td>\n",
              "      <td>9079.70</td>\n",
              "      <td>7.663898e+07</td>\n",
              "      <td>8416.44</td>\n",
              "      <td>direct</td>\n",
              "      <td></td>\n",
              "    </tr>\n",
              "    <tr>\n",
              "      <th>...</th>\n",
              "      <td>...</td>\n",
              "      <td>...</td>\n",
              "      <td>...</td>\n",
              "      <td>...</td>\n",
              "      <td>...</td>\n",
              "      <td>...</td>\n",
              "      <td>...</td>\n",
              "      <td>...</td>\n",
              "      <td>...</td>\n",
              "    </tr>\n",
              "    <tr>\n",
              "      <th>496</th>\n",
              "      <td>1622937600</td>\n",
              "      <td>30049.18</td>\n",
              "      <td>29031.88</td>\n",
              "      <td>29304.73</td>\n",
              "      <td>7732.30</td>\n",
              "      <td>2.290899e+08</td>\n",
              "      <td>29472.66</td>\n",
              "      <td>direct</td>\n",
              "      <td></td>\n",
              "    </tr>\n",
              "    <tr>\n",
              "      <th>497</th>\n",
              "      <td>1623024000</td>\n",
              "      <td>30283.24</td>\n",
              "      <td>27427.19</td>\n",
              "      <td>29472.66</td>\n",
              "      <td>14507.28</td>\n",
              "      <td>4.229042e+08</td>\n",
              "      <td>27599.01</td>\n",
              "      <td>direct</td>\n",
              "      <td></td>\n",
              "    </tr>\n",
              "    <tr>\n",
              "      <th>498</th>\n",
              "      <td>1623110400</td>\n",
              "      <td>27980.00</td>\n",
              "      <td>25495.27</td>\n",
              "      <td>27599.01</td>\n",
              "      <td>25751.63</td>\n",
              "      <td>6.917419e+08</td>\n",
              "      <td>27461.12</td>\n",
              "      <td>direct</td>\n",
              "      <td></td>\n",
              "    </tr>\n",
              "    <tr>\n",
              "      <th>499</th>\n",
              "      <td>1623196800</td>\n",
              "      <td>30832.85</td>\n",
              "      <td>26663.06</td>\n",
              "      <td>27461.12</td>\n",
              "      <td>24963.68</td>\n",
              "      <td>7.197754e+08</td>\n",
              "      <td>30711.65</td>\n",
              "      <td>direct</td>\n",
              "      <td></td>\n",
              "    </tr>\n",
              "    <tr>\n",
              "      <th>500</th>\n",
              "      <td>1623283200</td>\n",
              "      <td>31564.81</td>\n",
              "      <td>29823.31</td>\n",
              "      <td>30711.65</td>\n",
              "      <td>14686.28</td>\n",
              "      <td>4.500038e+08</td>\n",
              "      <td>30238.99</td>\n",
              "      <td>direct</td>\n",
              "      <td></td>\n",
              "    </tr>\n",
              "  </tbody>\n",
              "</table>\n",
              "<p>501 rows × 9 columns</p>\n",
              "</div>"
            ],
            "text/plain": [
              "           time      high       low  ...     close  conversionType  conversionSymbol\n",
              "0    1580083200   8141.73   7766.65  ...   8071.02          direct                  \n",
              "1    1580169600   8525.61   7889.06  ...   8504.29          direct                  \n",
              "2    1580256000   8563.80   8391.20  ...   8433.14          direct                  \n",
              "3    1580342400   8669.84   8347.96  ...   8613.43          direct                  \n",
              "4    1580428800   8628.21   8329.03  ...   8416.44          direct                  \n",
              "..          ...       ...       ...  ...       ...             ...               ...\n",
              "496  1622937600  30049.18  29031.88  ...  29472.66          direct                  \n",
              "497  1623024000  30283.24  27427.19  ...  27599.01          direct                  \n",
              "498  1623110400  27980.00  25495.27  ...  27461.12          direct                  \n",
              "499  1623196800  30832.85  26663.06  ...  30711.65          direct                  \n",
              "500  1623283200  31564.81  29823.31  ...  30238.99          direct                  \n",
              "\n",
              "[501 rows x 9 columns]"
            ]
          },
          "metadata": {
            "tags": []
          },
          "execution_count": 25
        }
      ]
    },
    {
      "cell_type": "code",
      "metadata": {
        "id": "Wfhb9JgWu-jK"
      },
      "source": [
        "hist = hist.set_index('time')"
      ],
      "id": "Wfhb9JgWu-jK",
      "execution_count": 26,
      "outputs": []
    },
    {
      "cell_type": "code",
      "metadata": {
        "execution": {
          "iopub.execute_input": "2021-06-06T16:36:03.566898Z",
          "iopub.status.busy": "2021-06-06T16:36:03.566246Z",
          "iopub.status.idle": "2021-06-06T16:36:03.582194Z",
          "shell.execute_reply": "2021-06-06T16:36:03.582612Z"
        },
        "papermill": {
          "duration": 0.028544,
          "end_time": "2021-06-06T16:36:03.582746",
          "exception": false,
          "start_time": "2021-06-06T16:36:03.554202",
          "status": "completed"
        },
        "tags": [],
        "colab": {
          "base_uri": "https://localhost:8080/"
        },
        "id": "posted-study",
        "outputId": "9dd1431f-0211-42ef-ad5d-d7d8933e324b"
      },
      "source": [
        "hist.index = pd.to_datetime(hist.index , unit = 's')\n",
        "hist.index"
      ],
      "id": "posted-study",
      "execution_count": 29,
      "outputs": [
        {
          "output_type": "execute_result",
          "data": {
            "text/plain": [
              "DatetimeIndex(['2020-01-27', '2020-01-28', '2020-01-29', '2020-01-30',\n",
              "               '2020-01-31', '2020-02-01', '2020-02-02', '2020-02-03',\n",
              "               '2020-02-04', '2020-02-05',\n",
              "               ...\n",
              "               '2021-06-01', '2021-06-02', '2021-06-03', '2021-06-04',\n",
              "               '2021-06-05', '2021-06-06', '2021-06-07', '2021-06-08',\n",
              "               '2021-06-09', '2021-06-10'],\n",
              "              dtype='datetime64[ns]', name='time', length=501, freq=None)"
            ]
          },
          "metadata": {
            "tags": []
          },
          "execution_count": 29
        }
      ]
    },
    {
      "cell_type": "markdown",
      "metadata": {
        "id": "f8kTx6Z7yw8t"
      },
      "source": [
        "**Dropping the conversion type and conversion symbol as they provide much information.**"
      ],
      "id": "f8kTx6Z7yw8t"
    },
    {
      "cell_type": "code",
      "metadata": {
        "execution": {
          "iopub.execute_input": "2021-06-06T16:36:03.609207Z",
          "iopub.status.busy": "2021-06-06T16:36:03.608567Z",
          "iopub.status.idle": "2021-06-06T16:36:03.642462Z",
          "shell.execute_reply": "2021-06-06T16:36:03.643059Z"
        },
        "papermill": {
          "duration": 0.050488,
          "end_time": "2021-06-06T16:36:03.643397",
          "exception": false,
          "start_time": "2021-06-06T16:36:03.592909",
          "status": "completed"
        },
        "tags": [],
        "colab": {
          "base_uri": "https://localhost:8080/",
          "height": 450
        },
        "id": "unavailable-baptist",
        "outputId": "a82c648f-be93-4771-92ef-1403df2c9412"
      },
      "source": [
        "target_col = 'close'\n",
        "hist= hist.drop(columns=['conversionType','conversionSymbol'], axis= 1)\n",
        "hist"
      ],
      "id": "unavailable-baptist",
      "execution_count": 30,
      "outputs": [
        {
          "output_type": "execute_result",
          "data": {
            "text/html": [
              "<div>\n",
              "<style scoped>\n",
              "    .dataframe tbody tr th:only-of-type {\n",
              "        vertical-align: middle;\n",
              "    }\n",
              "\n",
              "    .dataframe tbody tr th {\n",
              "        vertical-align: top;\n",
              "    }\n",
              "\n",
              "    .dataframe thead th {\n",
              "        text-align: right;\n",
              "    }\n",
              "</style>\n",
              "<table border=\"1\" class=\"dataframe\">\n",
              "  <thead>\n",
              "    <tr style=\"text-align: right;\">\n",
              "      <th></th>\n",
              "      <th>high</th>\n",
              "      <th>low</th>\n",
              "      <th>open</th>\n",
              "      <th>volumefrom</th>\n",
              "      <th>volumeto</th>\n",
              "      <th>close</th>\n",
              "    </tr>\n",
              "    <tr>\n",
              "      <th>time</th>\n",
              "      <th></th>\n",
              "      <th></th>\n",
              "      <th></th>\n",
              "      <th></th>\n",
              "      <th></th>\n",
              "      <th></th>\n",
              "    </tr>\n",
              "  </thead>\n",
              "  <tbody>\n",
              "    <tr>\n",
              "      <th>2020-01-27</th>\n",
              "      <td>8141.73</td>\n",
              "      <td>7766.65</td>\n",
              "      <td>7797.40</td>\n",
              "      <td>9939.17</td>\n",
              "      <td>7.902302e+07</td>\n",
              "      <td>8071.02</td>\n",
              "    </tr>\n",
              "    <tr>\n",
              "      <th>2020-01-28</th>\n",
              "      <td>8525.61</td>\n",
              "      <td>7889.06</td>\n",
              "      <td>8071.02</td>\n",
              "      <td>14258.93</td>\n",
              "      <td>1.170772e+08</td>\n",
              "      <td>8504.29</td>\n",
              "    </tr>\n",
              "    <tr>\n",
              "      <th>2020-01-29</th>\n",
              "      <td>8563.80</td>\n",
              "      <td>8391.20</td>\n",
              "      <td>8504.29</td>\n",
              "      <td>9424.87</td>\n",
              "      <td>7.992678e+07</td>\n",
              "      <td>8433.14</td>\n",
              "    </tr>\n",
              "    <tr>\n",
              "      <th>2020-01-30</th>\n",
              "      <td>8669.84</td>\n",
              "      <td>8347.96</td>\n",
              "      <td>8433.14</td>\n",
              "      <td>9790.97</td>\n",
              "      <td>8.346938e+07</td>\n",
              "      <td>8613.43</td>\n",
              "    </tr>\n",
              "    <tr>\n",
              "      <th>2020-01-31</th>\n",
              "      <td>8628.21</td>\n",
              "      <td>8329.03</td>\n",
              "      <td>8613.43</td>\n",
              "      <td>9079.70</td>\n",
              "      <td>7.663898e+07</td>\n",
              "      <td>8416.44</td>\n",
              "    </tr>\n",
              "    <tr>\n",
              "      <th>...</th>\n",
              "      <td>...</td>\n",
              "      <td>...</td>\n",
              "      <td>...</td>\n",
              "      <td>...</td>\n",
              "      <td>...</td>\n",
              "      <td>...</td>\n",
              "    </tr>\n",
              "    <tr>\n",
              "      <th>2021-06-06</th>\n",
              "      <td>30049.18</td>\n",
              "      <td>29031.88</td>\n",
              "      <td>29304.73</td>\n",
              "      <td>7732.30</td>\n",
              "      <td>2.290899e+08</td>\n",
              "      <td>29472.66</td>\n",
              "    </tr>\n",
              "    <tr>\n",
              "      <th>2021-06-07</th>\n",
              "      <td>30283.24</td>\n",
              "      <td>27427.19</td>\n",
              "      <td>29472.66</td>\n",
              "      <td>14507.28</td>\n",
              "      <td>4.229042e+08</td>\n",
              "      <td>27599.01</td>\n",
              "    </tr>\n",
              "    <tr>\n",
              "      <th>2021-06-08</th>\n",
              "      <td>27980.00</td>\n",
              "      <td>25495.27</td>\n",
              "      <td>27599.01</td>\n",
              "      <td>25751.63</td>\n",
              "      <td>6.917419e+08</td>\n",
              "      <td>27461.12</td>\n",
              "    </tr>\n",
              "    <tr>\n",
              "      <th>2021-06-09</th>\n",
              "      <td>30832.85</td>\n",
              "      <td>26663.06</td>\n",
              "      <td>27461.12</td>\n",
              "      <td>24963.68</td>\n",
              "      <td>7.197754e+08</td>\n",
              "      <td>30711.65</td>\n",
              "    </tr>\n",
              "    <tr>\n",
              "      <th>2021-06-10</th>\n",
              "      <td>31564.81</td>\n",
              "      <td>29823.31</td>\n",
              "      <td>30711.65</td>\n",
              "      <td>14686.28</td>\n",
              "      <td>4.500038e+08</td>\n",
              "      <td>30238.99</td>\n",
              "    </tr>\n",
              "  </tbody>\n",
              "</table>\n",
              "<p>501 rows × 6 columns</p>\n",
              "</div>"
            ],
            "text/plain": [
              "                high       low      open  volumefrom      volumeto     close\n",
              "time                                                                        \n",
              "2020-01-27   8141.73   7766.65   7797.40     9939.17  7.902302e+07   8071.02\n",
              "2020-01-28   8525.61   7889.06   8071.02    14258.93  1.170772e+08   8504.29\n",
              "2020-01-29   8563.80   8391.20   8504.29     9424.87  7.992678e+07   8433.14\n",
              "2020-01-30   8669.84   8347.96   8433.14     9790.97  8.346938e+07   8613.43\n",
              "2020-01-31   8628.21   8329.03   8613.43     9079.70  7.663898e+07   8416.44\n",
              "...              ...       ...       ...         ...           ...       ...\n",
              "2021-06-06  30049.18  29031.88  29304.73     7732.30  2.290899e+08  29472.66\n",
              "2021-06-07  30283.24  27427.19  29472.66    14507.28  4.229042e+08  27599.01\n",
              "2021-06-08  27980.00  25495.27  27599.01    25751.63  6.917419e+08  27461.12\n",
              "2021-06-09  30832.85  26663.06  27461.12    24963.68  7.197754e+08  30711.65\n",
              "2021-06-10  31564.81  29823.31  30711.65    14686.28  4.500038e+08  30238.99\n",
              "\n",
              "[501 rows x 6 columns]"
            ]
          },
          "metadata": {
            "tags": []
          },
          "execution_count": 30
        }
      ]
    },
    {
      "cell_type": "markdown",
      "metadata": {
        "id": "ZYi1yVj2zGwl"
      },
      "source": [
        "**Splitting the dataset in training set (70%) and test set (30%)**"
      ],
      "id": "ZYi1yVj2zGwl"
    },
    {
      "cell_type": "code",
      "metadata": {
        "execution": {
          "iopub.execute_input": "2021-06-06T16:36:03.677593Z",
          "iopub.status.busy": "2021-06-06T16:36:03.677001Z",
          "iopub.status.idle": "2021-06-06T16:36:03.679740Z",
          "shell.execute_reply": "2021-06-06T16:36:03.680253Z"
        },
        "papermill": {
          "duration": 0.023011,
          "end_time": "2021-06-06T16:36:03.680419",
          "exception": false,
          "start_time": "2021-06-06T16:36:03.657408",
          "status": "completed"
        },
        "tags": [],
        "id": "wanted-participant"
      },
      "source": [
        "def train_test_split(df, test_size):\n",
        "    split_row = len(df) - int(test_size * len(df))\n",
        "    train_data = df.iloc[:split_row]\n",
        "    test_data = df.iloc[split_row:]\n",
        "    return train_data, test_data\n",
        "\n",
        "train, test = train_test_split(hist, test_size=0.3)"
      ],
      "id": "wanted-participant",
      "execution_count": 31,
      "outputs": []
    },
    {
      "cell_type": "markdown",
      "metadata": {
        "id": "5UzPjJUjzYcb"
      },
      "source": [
        "**Prediction of cryptocurrency price**"
      ],
      "id": "5UzPjJUjzYcb"
    },
    {
      "cell_type": "code",
      "metadata": {
        "execution": {
          "iopub.execute_input": "2021-06-06T16:36:03.732441Z",
          "iopub.status.busy": "2021-06-06T16:36:03.731817Z",
          "iopub.status.idle": "2021-06-06T16:36:03.986828Z",
          "shell.execute_reply": "2021-06-06T16:36:03.986343Z"
        },
        "papermill": {
          "duration": 0.290388,
          "end_time": "2021-06-06T16:36:03.986930",
          "exception": false,
          "start_time": "2021-06-06T16:36:03.696542",
          "status": "completed"
        },
        "tags": [],
        "colab": {
          "base_uri": "https://localhost:8080/",
          "height": 481
        },
        "id": "optical-boards",
        "outputId": "99334ca0-d928-4f44-db89-8bd1f2c6a512"
      },
      "source": [
        "fig, ax = plt.subplots(1, figsize=(13, 7))\n",
        "ax.plot(train[target_col], label='training', linewidth=2, color = 'r')\n",
        "ax.plot(test[target_col], label='test', linewidth=2 , color = 'b')\n",
        "ax.set_xlabel('date', fontsize=14)\n",
        "ax.set_ylabel('price [EUR]', fontsize=14)\n",
        "ax.set_title('Prediction of Cryptocurrency Price', fontsize=16)\n",
        "ax.legend(loc='best', fontsize=16)"
      ],
      "id": "optical-boards",
      "execution_count": 44,
      "outputs": [
        {
          "output_type": "execute_result",
          "data": {
            "text/plain": [
              "<matplotlib.legend.Legend at 0x7f0c9d2c8dd0>"
            ]
          },
          "metadata": {
            "tags": []
          },
          "execution_count": 44
        },
        {
          "output_type": "display_data",
          "data": {
            "image/png": "[encoded data removed]",
            "text/plain": [
              "<Figure size 936x504 with 1 Axes>"
            ]
          },
          "metadata": {
            "tags": [],
            "needs_background": "light"
          }
        }
      ]
    },
    {
      "cell_type": "code",
      "metadata": {
        "execution": {
          "iopub.execute_input": "2021-06-06T16:36:04.015250Z",
          "iopub.status.busy": "2021-06-06T16:36:04.014792Z",
          "iopub.status.idle": "2021-06-06T16:36:04.017115Z",
          "shell.execute_reply": "2021-06-06T16:36:04.017610Z"
        },
        "papermill": {
          "duration": 0.018792,
          "end_time": "2021-06-06T16:36:04.017732",
          "exception": false,
          "start_time": "2021-06-06T16:36:03.998940",
          "status": "completed"
        },
        "tags": [],
        "id": "christian-domestic"
      },
      "source": [
        "def normalise_zero_base(df):\n",
        "    return df / df.iloc[0] - 1"
      ],
      "id": "christian-domestic",
      "execution_count": 33,
      "outputs": []
    },
    {
      "cell_type": "code",
      "metadata": {
        "execution": {
          "iopub.execute_input": "2021-06-06T16:36:04.049511Z",
          "iopub.status.busy": "2021-06-06T16:36:04.049018Z",
          "iopub.status.idle": "2021-06-06T16:36:04.052012Z",
          "shell.execute_reply": "2021-06-06T16:36:04.052377Z"
        },
        "papermill": {
          "duration": 0.022443,
          "end_time": "2021-06-06T16:36:04.052536",
          "exception": false,
          "start_time": "2021-06-06T16:36:04.030093",
          "status": "completed"
        },
        "tags": [],
        "id": "exposed-nicaragua"
      },
      "source": [
        "def extract_window_data(df, window_len=5, zero_base=True):\n",
        "    window_data = []\n",
        "    for idx in range(len(df) - window_len):\n",
        "        tmp = df[idx: (idx + window_len)].copy()\n",
        "        if zero_base:\n",
        "            tmp = normalise_zero_base(tmp)\n",
        "        window_data.append(tmp.values)\n",
        "    return np.array(window_data)"
      ],
      "id": "exposed-nicaragua",
      "execution_count": 34,
      "outputs": []
    },
    {
      "cell_type": "code",
      "metadata": {
        "execution": {
          "iopub.execute_input": "2021-06-06T16:36:04.084665Z",
          "iopub.status.busy": "2021-06-06T16:36:04.084091Z",
          "iopub.status.idle": "2021-06-06T16:36:04.087646Z",
          "shell.execute_reply": "2021-06-06T16:36:04.087241Z"
        },
        "papermill": {
          "duration": 0.022712,
          "end_time": "2021-06-06T16:36:04.087748",
          "exception": false,
          "start_time": "2021-06-06T16:36:04.065036",
          "status": "completed"
        },
        "tags": [],
        "id": "elect-boards"
      },
      "source": [
        "def prepare_data(df, target_col, window_len, zero_base, test_size):\n",
        "    train_data, test_data = train_test_split(df, test_size=test_size)\n",
        "    X_train = extract_window_data(train_data, window_len, zero_base)\n",
        "    X_test = extract_window_data(test_data, window_len, zero_base)\n",
        "    y_train = train_data[target_col][window_len:].values\n",
        "    y_test = test_data[target_col][window_len:].values\n",
        "    if zero_base:\n",
        "        y_train = y_train / train_data[target_col][:-window_len].values - 1\n",
        "        y_test = y_test / test_data[target_col][:-window_len].values - 1\n",
        "\n",
        "    return train_data, test_data, X_train, X_test, y_train, y_test"
      ],
      "id": "elect-boards",
      "execution_count": 35,
      "outputs": []
    },
    {
      "cell_type": "code",
      "metadata": {
        "execution": {
          "iopub.execute_input": "2021-06-06T16:36:04.118093Z",
          "iopub.status.busy": "2021-06-06T16:36:04.117313Z",
          "iopub.status.idle": "2021-06-06T16:36:04.120229Z",
          "shell.execute_reply": "2021-06-06T16:36:04.119666Z"
        },
        "papermill": {
          "duration": 0.020188,
          "end_time": "2021-06-06T16:36:04.120358",
          "exception": false,
          "start_time": "2021-06-06T16:36:04.100170",
          "status": "completed"
        },
        "tags": [],
        "id": "modern-rotation"
      },
      "source": [
        "def build_lstm_model(input_data):\n",
        "    model = Sequential()\n",
        "    model.add(LSTM(100, activation='tanh', input_shape=(input_data.shape[1], input_data.shape[2])))\n",
        "    model.add(Dropout(0.2))\n",
        "    model.add(Dense(units=1, activation='sigmoid'))\n",
        "    model.compile(loss='mse', optimizer='adam')\n",
        "    return model"
      ],
      "id": "modern-rotation",
      "execution_count": 36,
      "outputs": []
    },
    {
      "cell_type": "code",
      "metadata": {
        "execution": {
          "iopub.execute_input": "2021-06-06T16:36:04.161232Z",
          "iopub.status.busy": "2021-06-06T16:36:04.160781Z",
          "iopub.status.idle": "2021-06-06T16:36:04.163031Z",
          "shell.execute_reply": "2021-06-06T16:36:04.162584Z"
        },
        "papermill": {
          "duration": 0.024124,
          "end_time": "2021-06-06T16:36:04.163131",
          "exception": false,
          "start_time": "2021-06-06T16:36:04.139007",
          "status": "completed"
        },
        "tags": [],
        "id": "neutral-group"
      },
      "source": [
        "np.random.seed(42)\n",
        "window_len = 5\n",
        "test_size = 0.3\n",
        "zero_base = True"
      ],
      "id": "neutral-group",
      "execution_count": 37,
      "outputs": []
    },
    {
      "cell_type": "code",
      "metadata": {
        "execution": {
          "iopub.execute_input": "2021-06-06T16:36:04.193583Z",
          "iopub.status.busy": "2021-06-06T16:36:04.193093Z",
          "iopub.status.idle": "2021-06-06T16:36:04.802234Z",
          "shell.execute_reply": "2021-06-06T16:36:04.802745Z"
        },
        "papermill": {
          "duration": 0.626716,
          "end_time": "2021-06-06T16:36:04.802879",
          "exception": false,
          "start_time": "2021-06-06T16:36:04.176163",
          "status": "completed"
        },
        "tags": [],
        "id": "laden-sequence"
      },
      "source": [
        "train_data, test_data, X_train, X_test, y_train, y_test = prepare_data(hist, target_col, window_len=window_len, zero_base=zero_base, test_size=test_size)\n",
        "model = build_lstm_model(X_train)"
      ],
      "id": "laden-sequence",
      "execution_count": 38,
      "outputs": []
    },
    {
      "cell_type": "code",
      "metadata": {
        "execution": {
          "iopub.execute_input": "2021-06-06T16:36:04.831635Z",
          "iopub.status.busy": "2021-06-06T16:36:04.831164Z",
          "iopub.status.idle": "2021-06-06T16:36:39.400412Z",
          "shell.execute_reply": "2021-06-06T16:36:39.399993Z"
        },
        "papermill": {
          "duration": 34.584567,
          "end_time": "2021-06-06T16:36:39.400570",
          "exception": false,
          "start_time": "2021-06-06T16:36:04.816003",
          "status": "completed"
        },
        "tags": [],
        "colab": {
          "base_uri": "https://localhost:8080/"
        },
        "id": "outstanding-classics",
        "outputId": "8cad7a8e-f306-42f1-e9b9-1652b322b59b"
      },
      "source": [
        "epochs = 300\n",
        "batch_size = 32\n",
        "\n",
        "history = model.fit(X_train, y_train,validation_data=(X_test, y_test), epochs=epochs, batch_size=batch_size, verbose=1)"
      ],
      "id": "outstanding-classics",
      "execution_count": 39,
      "outputs": [
        {
          "output_type": "stream",
          "text": [
            "Epoch 1/300\n",
            "11/11 [==============================] - 3s 64ms/step - loss: 0.2338 - val_loss: 0.2192\n",
            "Epoch 2/300\n",
            "11/11 [==============================] - 0s 9ms/step - loss: 0.1828 - val_loss: 0.1595\n",
            "Epoch 3/300\n",
            "11/11 [==============================] - 0s 10ms/step - loss: 0.1198 - val_loss: 0.0590\n",
            "Epoch 4/300\n",
            "11/11 [==============================] - 0s 9ms/step - loss: 0.0327 - val_loss: 0.0113\n",
            "Epoch 5/300\n",
            "11/11 [==============================] - 0s 10ms/step - loss: 0.0079 - val_loss: 0.0102\n",
            "Epoch 6/300\n",
            "11/11 [==============================] - 0s 9ms/step - loss: 0.0066 - val_loss: 0.0102\n",
            "Epoch 7/300\n",
            "11/11 [==============================] - 0s 10ms/step - loss: 0.0075 - val_loss: 0.0102\n",
            "Epoch 8/300\n",
            "11/11 [==============================] - 0s 9ms/step - loss: 0.0081 - val_loss: 0.0102\n",
            "Epoch 9/300\n",
            "11/11 [==============================] - 0s 11ms/step - loss: 0.0080 - val_loss: 0.0102\n",
            "Epoch 10/300\n",
            "11/11 [==============================] - 0s 8ms/step - loss: 0.0063 - val_loss: 0.0102\n",
            "Epoch 11/300\n",
            "11/11 [==============================] - 0s 8ms/step - loss: 0.0064 - val_loss: 0.0102\n",
            "Epoch 12/300\n",
            "11/11 [==============================] - 0s 9ms/step - loss: 0.0071 - val_loss: 0.0102\n",
            "Epoch 13/300\n",
            "11/11 [==============================] - 0s 8ms/step - loss: 0.0073 - val_loss: 0.0102\n",
            "Epoch 14/300\n",
            "11/11 [==============================] - 0s 8ms/step - loss: 0.0061 - val_loss: 0.0102\n",
            "Epoch 15/300\n",
            "11/11 [==============================] - 0s 9ms/step - loss: 0.0075 - val_loss: 0.0102\n",
            "Epoch 16/300\n",
            "11/11 [==============================] - 0s 8ms/step - loss: 0.0072 - val_loss: 0.0102\n",
            "Epoch 17/300\n",
            "11/11 [==============================] - 0s 9ms/step - loss: 0.0054 - val_loss: 0.0102\n",
            "Epoch 18/300\n",
            "11/11 [==============================] - 0s 8ms/step - loss: 0.0070 - val_loss: 0.0102\n",
            "Epoch 19/300\n",
            "11/11 [==============================] - 0s 9ms/step - loss: 0.0070 - val_loss: 0.0101\n",
            "Epoch 20/300\n",
            "11/11 [==============================] - 0s 8ms/step - loss: 0.0077 - val_loss: 0.0101\n",
            "Epoch 21/300\n",
            "11/11 [==============================] - 0s 9ms/step - loss: 0.0075 - val_loss: 0.0101\n",
            "Epoch 22/300\n",
            "11/11 [==============================] - 0s 9ms/step - loss: 0.0079 - val_loss: 0.0101\n",
            "Epoch 23/300\n",
            "11/11 [==============================] - 0s 9ms/step - loss: 0.0075 - val_loss: 0.0101\n",
            "Epoch 24/300\n",
            "11/11 [==============================] - 0s 8ms/step - loss: 0.0063 - val_loss: 0.0100\n",
            "Epoch 25/300\n",
            "11/11 [==============================] - 0s 10ms/step - loss: 0.0072 - val_loss: 0.0099\n",
            "Epoch 26/300\n",
            "11/11 [==============================] - 0s 10ms/step - loss: 0.0076 - val_loss: 0.0099\n",
            "Epoch 27/300\n",
            "11/11 [==============================] - 0s 9ms/step - loss: 0.0073 - val_loss: 0.0097\n",
            "Epoch 28/300\n",
            "11/11 [==============================] - 0s 8ms/step - loss: 0.0074 - val_loss: 0.0096\n",
            "Epoch 29/300\n",
            "11/11 [==============================] - 0s 8ms/step - loss: 0.0069 - val_loss: 0.0094\n",
            "Epoch 30/300\n",
            "11/11 [==============================] - 0s 8ms/step - loss: 0.0052 - val_loss: 0.0092\n",
            "Epoch 31/300\n",
            "11/11 [==============================] - 0s 9ms/step - loss: 0.0072 - val_loss: 0.0091\n",
            "Epoch 32/300\n",
            "11/11 [==============================] - 0s 8ms/step - loss: 0.0054 - val_loss: 0.0089\n",
            "Epoch 33/300\n",
            "11/11 [==============================] - 0s 9ms/step - loss: 0.0064 - val_loss: 0.0087\n",
            "Epoch 34/300\n",
            "11/11 [==============================] - 0s 9ms/step - loss: 0.0056 - val_loss: 0.0086\n",
            "Epoch 35/300\n",
            "11/11 [==============================] - 0s 9ms/step - loss: 0.0064 - val_loss: 0.0085\n",
            "Epoch 36/300\n",
            "11/11 [==============================] - 0s 12ms/step - loss: 0.0054 - val_loss: 0.0084\n",
            "Epoch 37/300\n",
            "11/11 [==============================] - 0s 8ms/step - loss: 0.0048 - val_loss: 0.0083\n",
            "Epoch 38/300\n",
            "11/11 [==============================] - 0s 9ms/step - loss: 0.0051 - val_loss: 0.0082\n",
            "Epoch 39/300\n",
            "11/11 [==============================] - 0s 7ms/step - loss: 0.0056 - val_loss: 0.0081\n",
            "Epoch 40/300\n",
            "11/11 [==============================] - 0s 9ms/step - loss: 0.0051 - val_loss: 0.0081\n",
            "Epoch 41/300\n",
            "11/11 [==============================] - 0s 9ms/step - loss: 0.0053 - val_loss: 0.0081\n",
            "Epoch 42/300\n",
            "11/11 [==============================] - 0s 9ms/step - loss: 0.0057 - val_loss: 0.0081\n",
            "Epoch 43/300\n",
            "11/11 [==============================] - 0s 8ms/step - loss: 0.0070 - val_loss: 0.0080\n",
            "Epoch 44/300\n",
            "11/11 [==============================] - 0s 8ms/step - loss: 0.0051 - val_loss: 0.0080\n",
            "Epoch 45/300\n",
            "11/11 [==============================] - 0s 8ms/step - loss: 0.0054 - val_loss: 0.0080\n",
            "Epoch 46/300\n",
            "11/11 [==============================] - 0s 8ms/step - loss: 0.0056 - val_loss: 0.0079\n",
            "Epoch 47/300\n",
            "11/11 [==============================] - 0s 7ms/step - loss: 0.0059 - val_loss: 0.0079\n",
            "Epoch 48/300\n",
            "11/11 [==============================] - 0s 9ms/step - loss: 0.0045 - val_loss: 0.0079\n",
            "Epoch 49/300\n",
            "11/11 [==============================] - 0s 9ms/step - loss: 0.0056 - val_loss: 0.0079\n",
            "Epoch 50/300\n",
            "11/11 [==============================] - 0s 8ms/step - loss: 0.0053 - val_loss: 0.0079\n",
            "Epoch 51/300\n",
            "11/11 [==============================] - 0s 10ms/step - loss: 0.0045 - val_loss: 0.0079\n",
            "Epoch 52/300\n",
            "11/11 [==============================] - 0s 9ms/step - loss: 0.0050 - val_loss: 0.0079\n",
            "Epoch 53/300\n",
            "11/11 [==============================] - 0s 9ms/step - loss: 0.0061 - val_loss: 0.0078\n",
            "Epoch 54/300\n",
            "11/11 [==============================] - 0s 9ms/step - loss: 0.0048 - val_loss: 0.0078\n",
            "Epoch 55/300\n",
            "11/11 [==============================] - 0s 7ms/step - loss: 0.0052 - val_loss: 0.0078\n",
            "Epoch 56/300\n",
            "11/11 [==============================] - 0s 9ms/step - loss: 0.0045 - val_loss: 0.0078\n",
            "Epoch 57/300\n",
            "11/11 [==============================] - 0s 8ms/step - loss: 0.0058 - val_loss: 0.0078\n",
            "Epoch 58/300\n",
            "11/11 [==============================] - 0s 8ms/step - loss: 0.0069 - val_loss: 0.0078\n",
            "Epoch 59/300\n",
            "11/11 [==============================] - 0s 9ms/step - loss: 0.0055 - val_loss: 0.0078\n",
            "Epoch 60/300\n",
            "11/11 [==============================] - 0s 7ms/step - loss: 0.0048 - val_loss: 0.0078\n",
            "Epoch 61/300\n",
            "11/11 [==============================] - 0s 8ms/step - loss: 0.0065 - val_loss: 0.0077\n",
            "Epoch 62/300\n",
            "11/11 [==============================] - 0s 10ms/step - loss: 0.0058 - val_loss: 0.0077\n",
            "Epoch 63/300\n",
            "11/11 [==============================] - 0s 7ms/step - loss: 0.0047 - val_loss: 0.0077\n",
            "Epoch 64/300\n",
            "11/11 [==============================] - 0s 8ms/step - loss: 0.0052 - val_loss: 0.0077\n",
            "Epoch 65/300\n",
            "11/11 [==============================] - 0s 9ms/step - loss: 0.0062 - val_loss: 0.0077\n",
            "Epoch 66/300\n",
            "11/11 [==============================] - 0s 8ms/step - loss: 0.0055 - val_loss: 0.0077\n",
            "Epoch 67/300\n",
            "11/11 [==============================] - 0s 8ms/step - loss: 0.0040 - val_loss: 0.0077\n",
            "Epoch 68/300\n",
            "11/11 [==============================] - 0s 8ms/step - loss: 0.0044 - val_loss: 0.0077\n",
            "Epoch 69/300\n",
            "11/11 [==============================] - 0s 7ms/step - loss: 0.0045 - val_loss: 0.0077\n",
            "Epoch 70/300\n",
            "11/11 [==============================] - 0s 9ms/step - loss: 0.0049 - val_loss: 0.0076\n",
            "Epoch 71/300\n",
            "11/11 [==============================] - 0s 9ms/step - loss: 0.0066 - val_loss: 0.0076\n",
            "Epoch 72/300\n",
            "11/11 [==============================] - 0s 9ms/step - loss: 0.0045 - val_loss: 0.0076\n",
            "Epoch 73/300\n",
            "11/11 [==============================] - 0s 8ms/step - loss: 0.0048 - val_loss: 0.0076\n",
            "Epoch 74/300\n",
            "11/11 [==============================] - 0s 7ms/step - loss: 0.0047 - val_loss: 0.0076\n",
            "Epoch 75/300\n",
            "11/11 [==============================] - 0s 8ms/step - loss: 0.0053 - val_loss: 0.0076\n",
            "Epoch 76/300\n",
            "11/11 [==============================] - 0s 7ms/step - loss: 0.0049 - val_loss: 0.0076\n",
            "Epoch 77/300\n",
            "11/11 [==============================] - 0s 8ms/step - loss: 0.0046 - val_loss: 0.0076\n",
            "Epoch 78/300\n",
            "11/11 [==============================] - 0s 8ms/step - loss: 0.0042 - val_loss: 0.0076\n",
            "Epoch 79/300\n",
            "11/11 [==============================] - 0s 9ms/step - loss: 0.0038 - val_loss: 0.0076\n",
            "Epoch 80/300\n",
            "11/11 [==============================] - 0s 10ms/step - loss: 0.0051 - val_loss: 0.0076\n",
            "Epoch 81/300\n",
            "11/11 [==============================] - 0s 9ms/step - loss: 0.0048 - val_loss: 0.0075\n",
            "Epoch 82/300\n",
            "11/11 [==============================] - 0s 8ms/step - loss: 0.0051 - val_loss: 0.0076\n",
            "Epoch 83/300\n",
            "11/11 [==============================] - 0s 9ms/step - loss: 0.0041 - val_loss: 0.0075\n",
            "Epoch 84/300\n",
            "11/11 [==============================] - 0s 9ms/step - loss: 0.0053 - val_loss: 0.0075\n",
            "Epoch 85/300\n",
            "11/11 [==============================] - 0s 9ms/step - loss: 0.0048 - val_loss: 0.0075\n",
            "Epoch 86/300\n",
            "11/11 [==============================] - 0s 9ms/step - loss: 0.0057 - val_loss: 0.0075\n",
            "Epoch 87/300\n",
            "11/11 [==============================] - 0s 9ms/step - loss: 0.0049 - val_loss: 0.0075\n",
            "Epoch 88/300\n",
            "11/11 [==============================] - 0s 9ms/step - loss: 0.0036 - val_loss: 0.0075\n",
            "Epoch 89/300\n",
            "11/11 [==============================] - 0s 8ms/step - loss: 0.0054 - val_loss: 0.0075\n",
            "Epoch 90/300\n",
            "11/11 [==============================] - 0s 10ms/step - loss: 0.0042 - val_loss: 0.0075\n",
            "Epoch 91/300\n",
            "11/11 [==============================] - 0s 11ms/step - loss: 0.0055 - val_loss: 0.0075\n",
            "Epoch 92/300\n",
            "11/11 [==============================] - 0s 9ms/step - loss: 0.0051 - val_loss: 0.0075\n",
            "Epoch 93/300\n",
            "11/11 [==============================] - 0s 8ms/step - loss: 0.0048 - val_loss: 0.0075\n",
            "Epoch 94/300\n",
            "11/11 [==============================] - 0s 9ms/step - loss: 0.0041 - val_loss: 0.0075\n",
            "Epoch 95/300\n",
            "11/11 [==============================] - 0s 8ms/step - loss: 0.0049 - val_loss: 0.0075\n",
            "Epoch 96/300\n",
            "11/11 [==============================] - 0s 8ms/step - loss: 0.0038 - val_loss: 0.0075\n",
            "Epoch 97/300\n",
            "11/11 [==============================] - 0s 10ms/step - loss: 0.0042 - val_loss: 0.0074\n",
            "Epoch 98/300\n",
            "11/11 [==============================] - 0s 9ms/step - loss: 0.0039 - val_loss: 0.0074\n",
            "Epoch 99/300\n",
            "11/11 [==============================] - 0s 8ms/step - loss: 0.0054 - val_loss: 0.0074\n",
            "Epoch 100/300\n",
            "11/11 [==============================] - 0s 10ms/step - loss: 0.0050 - val_loss: 0.0074\n",
            "Epoch 101/300\n",
            "11/11 [==============================] - 0s 8ms/step - loss: 0.0048 - val_loss: 0.0074\n",
            "Epoch 102/300\n",
            "11/11 [==============================] - 0s 8ms/step - loss: 0.0047 - val_loss: 0.0074\n",
            "Epoch 103/300\n",
            "11/11 [==============================] - 0s 8ms/step - loss: 0.0038 - val_loss: 0.0074\n",
            "Epoch 104/300\n",
            "11/11 [==============================] - 0s 9ms/step - loss: 0.0042 - val_loss: 0.0074\n",
            "Epoch 105/300\n",
            "11/11 [==============================] - 0s 9ms/step - loss: 0.0051 - val_loss: 0.0074\n",
            "Epoch 106/300\n",
            "11/11 [==============================] - 0s 7ms/step - loss: 0.0039 - val_loss: 0.0074\n",
            "Epoch 107/300\n",
            "11/11 [==============================] - 0s 8ms/step - loss: 0.0048 - val_loss: 0.0074\n",
            "Epoch 108/300\n",
            "11/11 [==============================] - 0s 9ms/step - loss: 0.0051 - val_loss: 0.0074\n",
            "Epoch 109/300\n",
            "11/11 [==============================] - 0s 8ms/step - loss: 0.0048 - val_loss: 0.0074\n",
            "Epoch 110/300\n",
            "11/11 [==============================] - 0s 9ms/step - loss: 0.0054 - val_loss: 0.0074\n",
            "Epoch 111/300\n",
            "11/11 [==============================] - 0s 9ms/step - loss: 0.0047 - val_loss: 0.0073\n",
            "Epoch 112/300\n",
            "11/11 [==============================] - 0s 9ms/step - loss: 0.0050 - val_loss: 0.0073\n",
            "Epoch 113/300\n",
            "11/11 [==============================] - 0s 8ms/step - loss: 0.0044 - val_loss: 0.0073\n",
            "Epoch 114/300\n",
            "11/11 [==============================] - 0s 9ms/step - loss: 0.0045 - val_loss: 0.0073\n",
            "Epoch 115/300\n",
            "11/11 [==============================] - 0s 10ms/step - loss: 0.0042 - val_loss: 0.0073\n",
            "Epoch 116/300\n",
            "11/11 [==============================] - 0s 8ms/step - loss: 0.0047 - val_loss: 0.0073\n",
            "Epoch 117/300\n",
            "11/11 [==============================] - 0s 9ms/step - loss: 0.0040 - val_loss: 0.0073\n",
            "Epoch 118/300\n",
            "11/11 [==============================] - 0s 9ms/step - loss: 0.0052 - val_loss: 0.0073\n",
            "Epoch 119/300\n",
            "11/11 [==============================] - 0s 8ms/step - loss: 0.0050 - val_loss: 0.0073\n",
            "Epoch 120/300\n",
            "11/11 [==============================] - 0s 10ms/step - loss: 0.0056 - val_loss: 0.0073\n",
            "Epoch 121/300\n",
            "11/11 [==============================] - 0s 9ms/step - loss: 0.0049 - val_loss: 0.0073\n",
            "Epoch 122/300\n",
            "11/11 [==============================] - 0s 8ms/step - loss: 0.0048 - val_loss: 0.0073\n",
            "Epoch 123/300\n",
            "11/11 [==============================] - 0s 8ms/step - loss: 0.0037 - val_loss: 0.0073\n",
            "Epoch 124/300\n",
            "11/11 [==============================] - 0s 9ms/step - loss: 0.0045 - val_loss: 0.0072\n",
            "Epoch 125/300\n",
            "11/11 [==============================] - 0s 9ms/step - loss: 0.0041 - val_loss: 0.0072\n",
            "Epoch 126/300\n",
            "11/11 [==============================] - 0s 8ms/step - loss: 0.0041 - val_loss: 0.0072\n",
            "Epoch 127/300\n",
            "11/11 [==============================] - 0s 9ms/step - loss: 0.0045 - val_loss: 0.0072\n",
            "Epoch 128/300\n",
            "11/11 [==============================] - 0s 8ms/step - loss: 0.0043 - val_loss: 0.0072\n",
            "Epoch 129/300\n",
            "11/11 [==============================] - 0s 10ms/step - loss: 0.0050 - val_loss: 0.0072\n",
            "Epoch 130/300\n",
            "11/11 [==============================] - 0s 10ms/step - loss: 0.0050 - val_loss: 0.0072\n",
            "Epoch 131/300\n",
            "11/11 [==============================] - 0s 9ms/step - loss: 0.0047 - val_loss: 0.0072\n",
            "Epoch 132/300\n",
            "11/11 [==============================] - 0s 8ms/step - loss: 0.0043 - val_loss: 0.0072\n",
            "Epoch 133/300\n",
            "11/11 [==============================] - 0s 8ms/step - loss: 0.0054 - val_loss: 0.0072\n",
            "Epoch 134/300\n",
            "11/11 [==============================] - 0s 10ms/step - loss: 0.0046 - val_loss: 0.0072\n",
            "Epoch 135/300\n",
            "11/11 [==============================] - 0s 8ms/step - loss: 0.0049 - val_loss: 0.0072\n",
            "Epoch 136/300\n",
            "11/11 [==============================] - 0s 9ms/step - loss: 0.0038 - val_loss: 0.0072\n",
            "Epoch 137/300\n",
            "11/11 [==============================] - 0s 8ms/step - loss: 0.0050 - val_loss: 0.0072\n",
            "Epoch 138/300\n",
            "11/11 [==============================] - 0s 10ms/step - loss: 0.0049 - val_loss: 0.0071\n",
            "Epoch 139/300\n",
            "11/11 [==============================] - 0s 10ms/step - loss: 0.0059 - val_loss: 0.0071\n",
            "Epoch 140/300\n",
            "11/11 [==============================] - 0s 9ms/step - loss: 0.0041 - val_loss: 0.0071\n",
            "Epoch 141/300\n",
            "11/11 [==============================] - 0s 8ms/step - loss: 0.0053 - val_loss: 0.0071\n",
            "Epoch 142/300\n",
            "11/11 [==============================] - 0s 8ms/step - loss: 0.0048 - val_loss: 0.0071\n",
            "Epoch 143/300\n",
            "11/11 [==============================] - 0s 7ms/step - loss: 0.0045 - val_loss: 0.0071\n",
            "Epoch 144/300\n",
            "11/11 [==============================] - 0s 9ms/step - loss: 0.0036 - val_loss: 0.0071\n",
            "Epoch 145/300\n",
            "11/11 [==============================] - 0s 8ms/step - loss: 0.0058 - val_loss: 0.0071\n",
            "Epoch 146/300\n",
            "11/11 [==============================] - 0s 8ms/step - loss: 0.0040 - val_loss: 0.0071\n",
            "Epoch 147/300\n",
            "11/11 [==============================] - 0s 9ms/step - loss: 0.0058 - val_loss: 0.0071\n",
            "Epoch 148/300\n",
            "11/11 [==============================] - 0s 8ms/step - loss: 0.0039 - val_loss: 0.0071\n",
            "Epoch 149/300\n",
            "11/11 [==============================] - 0s 9ms/step - loss: 0.0036 - val_loss: 0.0071\n",
            "Epoch 150/300\n",
            "11/11 [==============================] - 0s 9ms/step - loss: 0.0057 - val_loss: 0.0071\n",
            "Epoch 151/300\n",
            "11/11 [==============================] - 0s 9ms/step - loss: 0.0045 - val_loss: 0.0071\n",
            "Epoch 152/300\n",
            "11/11 [==============================] - 0s 9ms/step - loss: 0.0039 - val_loss: 0.0071\n",
            "Epoch 153/300\n",
            "11/11 [==============================] - 0s 9ms/step - loss: 0.0046 - val_loss: 0.0071\n",
            "Epoch 154/300\n",
            "11/11 [==============================] - 0s 9ms/step - loss: 0.0039 - val_loss: 0.0071\n",
            "Epoch 155/300\n",
            "11/11 [==============================] - 0s 8ms/step - loss: 0.0036 - val_loss: 0.0070\n",
            "Epoch 156/300\n",
            "11/11 [==============================] - 0s 8ms/step - loss: 0.0045 - val_loss: 0.0070\n",
            "Epoch 157/300\n",
            "11/11 [==============================] - 0s 9ms/step - loss: 0.0044 - val_loss: 0.0070\n",
            "Epoch 158/300\n",
            "11/11 [==============================] - 0s 9ms/step - loss: 0.0040 - val_loss: 0.0070\n",
            "Epoch 159/300\n",
            "11/11 [==============================] - 0s 10ms/step - loss: 0.0043 - val_loss: 0.0070\n",
            "Epoch 160/300\n",
            "11/11 [==============================] - 0s 8ms/step - loss: 0.0040 - val_loss: 0.0070\n",
            "Epoch 161/300\n",
            "11/11 [==============================] - 0s 8ms/step - loss: 0.0041 - val_loss: 0.0070\n",
            "Epoch 162/300\n",
            "11/11 [==============================] - 0s 9ms/step - loss: 0.0033 - val_loss: 0.0070\n",
            "Epoch 163/300\n",
            "11/11 [==============================] - 0s 8ms/step - loss: 0.0045 - val_loss: 0.0070\n",
            "Epoch 164/300\n",
            "11/11 [==============================] - 0s 8ms/step - loss: 0.0035 - val_loss: 0.0070\n",
            "Epoch 165/300\n",
            "11/11 [==============================] - 0s 10ms/step - loss: 0.0051 - val_loss: 0.0070\n",
            "Epoch 166/300\n",
            "11/11 [==============================] - 0s 10ms/step - loss: 0.0040 - val_loss: 0.0070\n",
            "Epoch 167/300\n",
            "11/11 [==============================] - 0s 10ms/step - loss: 0.0034 - val_loss: 0.0070\n",
            "Epoch 168/300\n",
            "11/11 [==============================] - 0s 9ms/step - loss: 0.0035 - val_loss: 0.0070\n",
            "Epoch 169/300\n",
            "11/11 [==============================] - 0s 11ms/step - loss: 0.0046 - val_loss: 0.0070\n",
            "Epoch 170/300\n",
            "11/11 [==============================] - 0s 9ms/step - loss: 0.0042 - val_loss: 0.0070\n",
            "Epoch 171/300\n",
            "11/11 [==============================] - 0s 8ms/step - loss: 0.0037 - val_loss: 0.0070\n",
            "Epoch 172/300\n",
            "11/11 [==============================] - 0s 9ms/step - loss: 0.0035 - val_loss: 0.0069\n",
            "Epoch 173/300\n",
            "11/11 [==============================] - 0s 9ms/step - loss: 0.0040 - val_loss: 0.0069\n",
            "Epoch 174/300\n",
            "11/11 [==============================] - 0s 10ms/step - loss: 0.0048 - val_loss: 0.0069\n",
            "Epoch 175/300\n",
            "11/11 [==============================] - 0s 9ms/step - loss: 0.0036 - val_loss: 0.0069\n",
            "Epoch 176/300\n",
            "11/11 [==============================] - 0s 9ms/step - loss: 0.0040 - val_loss: 0.0069\n",
            "Epoch 177/300\n",
            "11/11 [==============================] - 0s 10ms/step - loss: 0.0052 - val_loss: 0.0069\n",
            "Epoch 178/300\n",
            "11/11 [==============================] - 0s 10ms/step - loss: 0.0052 - val_loss: 0.0069\n",
            "Epoch 179/300\n",
            "11/11 [==============================] - 0s 9ms/step - loss: 0.0031 - val_loss: 0.0069\n",
            "Epoch 180/300\n",
            "11/11 [==============================] - 0s 10ms/step - loss: 0.0035 - val_loss: 0.0069\n",
            "Epoch 181/300\n",
            "11/11 [==============================] - 0s 9ms/step - loss: 0.0040 - val_loss: 0.0069\n",
            "Epoch 182/300\n",
            "11/11 [==============================] - 0s 9ms/step - loss: 0.0032 - val_loss: 0.0069\n",
            "Epoch 183/300\n",
            "11/11 [==============================] - 0s 9ms/step - loss: 0.0038 - val_loss: 0.0069\n",
            "Epoch 184/300\n",
            "11/11 [==============================] - 0s 9ms/step - loss: 0.0044 - val_loss: 0.0069\n",
            "Epoch 185/300\n",
            "11/11 [==============================] - 0s 9ms/step - loss: 0.0041 - val_loss: 0.0069\n",
            "Epoch 186/300\n",
            "11/11 [==============================] - 0s 9ms/step - loss: 0.0042 - val_loss: 0.0069\n",
            "Epoch 187/300\n",
            "11/11 [==============================] - 0s 9ms/step - loss: 0.0051 - val_loss: 0.0069\n",
            "Epoch 188/300\n",
            "11/11 [==============================] - 0s 10ms/step - loss: 0.0040 - val_loss: 0.0068\n",
            "Epoch 189/300\n",
            "11/11 [==============================] - 0s 10ms/step - loss: 0.0037 - val_loss: 0.0069\n",
            "Epoch 190/300\n",
            "11/11 [==============================] - 0s 9ms/step - loss: 0.0051 - val_loss: 0.0068\n",
            "Epoch 191/300\n",
            "11/11 [==============================] - 0s 9ms/step - loss: 0.0048 - val_loss: 0.0068\n",
            "Epoch 192/300\n",
            "11/11 [==============================] - 0s 8ms/step - loss: 0.0045 - val_loss: 0.0068\n",
            "Epoch 193/300\n",
            "11/11 [==============================] - 0s 9ms/step - loss: 0.0032 - val_loss: 0.0068\n",
            "Epoch 194/300\n",
            "11/11 [==============================] - 0s 9ms/step - loss: 0.0031 - val_loss: 0.0068\n",
            "Epoch 195/300\n",
            "11/11 [==============================] - 0s 9ms/step - loss: 0.0049 - val_loss: 0.0068\n",
            "Epoch 196/300\n",
            "11/11 [==============================] - 0s 9ms/step - loss: 0.0054 - val_loss: 0.0068\n",
            "Epoch 197/300\n",
            "11/11 [==============================] - 0s 10ms/step - loss: 0.0050 - val_loss: 0.0068\n",
            "Epoch 198/300\n",
            "11/11 [==============================] - 0s 9ms/step - loss: 0.0033 - val_loss: 0.0068\n",
            "Epoch 199/300\n",
            "11/11 [==============================] - 0s 10ms/step - loss: 0.0040 - val_loss: 0.0068\n",
            "Epoch 200/300\n",
            "11/11 [==============================] - 0s 9ms/step - loss: 0.0037 - val_loss: 0.0068\n",
            "Epoch 201/300\n",
            "11/11 [==============================] - 0s 9ms/step - loss: 0.0054 - val_loss: 0.0068\n",
            "Epoch 202/300\n",
            "11/11 [==============================] - 0s 9ms/step - loss: 0.0046 - val_loss: 0.0068\n",
            "Epoch 203/300\n",
            "11/11 [==============================] - 0s 10ms/step - loss: 0.0037 - val_loss: 0.0068\n",
            "Epoch 204/300\n",
            "11/11 [==============================] - 0s 9ms/step - loss: 0.0045 - val_loss: 0.0068\n",
            "Epoch 205/300\n",
            "11/11 [==============================] - 0s 9ms/step - loss: 0.0036 - val_loss: 0.0068\n",
            "Epoch 206/300\n",
            "11/11 [==============================] - 0s 9ms/step - loss: 0.0039 - val_loss: 0.0067\n",
            "Epoch 207/300\n",
            "11/11 [==============================] - 0s 9ms/step - loss: 0.0036 - val_loss: 0.0067\n",
            "Epoch 208/300\n",
            "11/11 [==============================] - 0s 10ms/step - loss: 0.0058 - val_loss: 0.0067\n",
            "Epoch 209/300\n",
            "11/11 [==============================] - 0s 9ms/step - loss: 0.0047 - val_loss: 0.0067\n",
            "Epoch 210/300\n",
            "11/11 [==============================] - 0s 9ms/step - loss: 0.0041 - val_loss: 0.0067\n",
            "Epoch 211/300\n",
            "11/11 [==============================] - 0s 8ms/step - loss: 0.0046 - val_loss: 0.0067\n",
            "Epoch 212/300\n",
            "11/11 [==============================] - 0s 9ms/step - loss: 0.0042 - val_loss: 0.0067\n",
            "Epoch 213/300\n",
            "11/11 [==============================] - 0s 9ms/step - loss: 0.0049 - val_loss: 0.0067\n",
            "Epoch 214/300\n",
            "11/11 [==============================] - 0s 8ms/step - loss: 0.0042 - val_loss: 0.0067\n",
            "Epoch 215/300\n",
            "11/11 [==============================] - 0s 11ms/step - loss: 0.0040 - val_loss: 0.0067\n",
            "Epoch 216/300\n",
            "11/11 [==============================] - 0s 9ms/step - loss: 0.0030 - val_loss: 0.0067\n",
            "Epoch 217/300\n",
            "11/11 [==============================] - 0s 9ms/step - loss: 0.0043 - val_loss: 0.0067\n",
            "Epoch 218/300\n",
            "11/11 [==============================] - 0s 9ms/step - loss: 0.0046 - val_loss: 0.0067\n",
            "Epoch 219/300\n",
            "11/11 [==============================] - 0s 9ms/step - loss: 0.0040 - val_loss: 0.0067\n",
            "Epoch 220/300\n",
            "11/11 [==============================] - 0s 10ms/step - loss: 0.0039 - val_loss: 0.0067\n",
            "Epoch 221/300\n",
            "11/11 [==============================] - 0s 9ms/step - loss: 0.0041 - val_loss: 0.0066\n",
            "Epoch 222/300\n",
            "11/11 [==============================] - 0s 9ms/step - loss: 0.0042 - val_loss: 0.0066\n",
            "Epoch 223/300\n",
            "11/11 [==============================] - 0s 8ms/step - loss: 0.0040 - val_loss: 0.0066\n",
            "Epoch 224/300\n",
            "11/11 [==============================] - 0s 8ms/step - loss: 0.0043 - val_loss: 0.0066\n",
            "Epoch 225/300\n",
            "11/11 [==============================] - 0s 9ms/step - loss: 0.0040 - val_loss: 0.0066\n",
            "Epoch 226/300\n",
            "11/11 [==============================] - 0s 10ms/step - loss: 0.0035 - val_loss: 0.0066\n",
            "Epoch 227/300\n",
            "11/11 [==============================] - 0s 9ms/step - loss: 0.0026 - val_loss: 0.0066\n",
            "Epoch 228/300\n",
            "11/11 [==============================] - 0s 10ms/step - loss: 0.0034 - val_loss: 0.0067\n",
            "Epoch 229/300\n",
            "11/11 [==============================] - 0s 8ms/step - loss: 0.0035 - val_loss: 0.0066\n",
            "Epoch 230/300\n",
            "11/11 [==============================] - 0s 8ms/step - loss: 0.0034 - val_loss: 0.0066\n",
            "Epoch 231/300\n",
            "11/11 [==============================] - 0s 8ms/step - loss: 0.0049 - val_loss: 0.0066\n",
            "Epoch 232/300\n",
            "11/11 [==============================] - 0s 9ms/step - loss: 0.0043 - val_loss: 0.0066\n",
            "Epoch 233/300\n",
            "11/11 [==============================] - 0s 8ms/step - loss: 0.0044 - val_loss: 0.0066\n",
            "Epoch 234/300\n",
            "11/11 [==============================] - 0s 8ms/step - loss: 0.0045 - val_loss: 0.0066\n",
            "Epoch 235/300\n",
            "11/11 [==============================] - 0s 9ms/step - loss: 0.0034 - val_loss: 0.0066\n",
            "Epoch 236/300\n",
            "11/11 [==============================] - 0s 9ms/step - loss: 0.0043 - val_loss: 0.0066\n",
            "Epoch 237/300\n",
            "11/11 [==============================] - 0s 8ms/step - loss: 0.0042 - val_loss: 0.0066\n",
            "Epoch 238/300\n",
            "11/11 [==============================] - 0s 9ms/step - loss: 0.0033 - val_loss: 0.0066\n",
            "Epoch 239/300\n",
            "11/11 [==============================] - 0s 10ms/step - loss: 0.0048 - val_loss: 0.0066\n",
            "Epoch 240/300\n",
            "11/11 [==============================] - 0s 9ms/step - loss: 0.0046 - val_loss: 0.0066\n",
            "Epoch 241/300\n",
            "11/11 [==============================] - 0s 10ms/step - loss: 0.0053 - val_loss: 0.0065\n",
            "Epoch 242/300\n",
            "11/11 [==============================] - 0s 9ms/step - loss: 0.0037 - val_loss: 0.0065\n",
            "Epoch 243/300\n",
            "11/11 [==============================] - 0s 10ms/step - loss: 0.0052 - val_loss: 0.0065\n",
            "Epoch 244/300\n",
            "11/11 [==============================] - 0s 9ms/step - loss: 0.0043 - val_loss: 0.0066\n",
            "Epoch 245/300\n",
            "11/11 [==============================] - 0s 10ms/step - loss: 0.0053 - val_loss: 0.0065\n",
            "Epoch 246/300\n",
            "11/11 [==============================] - 0s 8ms/step - loss: 0.0040 - val_loss: 0.0065\n",
            "Epoch 247/300\n",
            "11/11 [==============================] - 0s 10ms/step - loss: 0.0036 - val_loss: 0.0065\n",
            "Epoch 248/300\n",
            "11/11 [==============================] - 0s 9ms/step - loss: 0.0037 - val_loss: 0.0066\n",
            "Epoch 249/300\n",
            "11/11 [==============================] - 0s 9ms/step - loss: 0.0039 - val_loss: 0.0065\n",
            "Epoch 250/300\n",
            "11/11 [==============================] - 0s 8ms/step - loss: 0.0035 - val_loss: 0.0065\n",
            "Epoch 251/300\n",
            "11/11 [==============================] - 0s 9ms/step - loss: 0.0033 - val_loss: 0.0065\n",
            "Epoch 252/300\n",
            "11/11 [==============================] - 0s 9ms/step - loss: 0.0051 - val_loss: 0.0065\n",
            "Epoch 253/300\n",
            "11/11 [==============================] - 0s 9ms/step - loss: 0.0041 - val_loss: 0.0065\n",
            "Epoch 254/300\n",
            "11/11 [==============================] - 0s 9ms/step - loss: 0.0038 - val_loss: 0.0065\n",
            "Epoch 255/300\n",
            "11/11 [==============================] - 0s 9ms/step - loss: 0.0042 - val_loss: 0.0065\n",
            "Epoch 256/300\n",
            "11/11 [==============================] - 0s 9ms/step - loss: 0.0047 - val_loss: 0.0065\n",
            "Epoch 257/300\n",
            "11/11 [==============================] - 0s 9ms/step - loss: 0.0030 - val_loss: 0.0065\n",
            "Epoch 258/300\n",
            "11/11 [==============================] - 0s 9ms/step - loss: 0.0036 - val_loss: 0.0065\n",
            "Epoch 259/300\n",
            "11/11 [==============================] - 0s 9ms/step - loss: 0.0042 - val_loss: 0.0065\n",
            "Epoch 260/300\n",
            "11/11 [==============================] - 0s 9ms/step - loss: 0.0045 - val_loss: 0.0065\n",
            "Epoch 261/300\n",
            "11/11 [==============================] - 0s 10ms/step - loss: 0.0040 - val_loss: 0.0065\n",
            "Epoch 262/300\n",
            "11/11 [==============================] - 0s 10ms/step - loss: 0.0046 - val_loss: 0.0065\n",
            "Epoch 263/300\n",
            "11/11 [==============================] - 0s 10ms/step - loss: 0.0036 - val_loss: 0.0065\n",
            "Epoch 264/300\n",
            "11/11 [==============================] - 0s 8ms/step - loss: 0.0044 - val_loss: 0.0065\n",
            "Epoch 265/300\n",
            "11/11 [==============================] - 0s 10ms/step - loss: 0.0032 - val_loss: 0.0065\n",
            "Epoch 266/300\n",
            "11/11 [==============================] - 0s 9ms/step - loss: 0.0037 - val_loss: 0.0065\n",
            "Epoch 267/300\n",
            "11/11 [==============================] - 0s 8ms/step - loss: 0.0046 - val_loss: 0.0065\n",
            "Epoch 268/300\n",
            "11/11 [==============================] - 0s 9ms/step - loss: 0.0040 - val_loss: 0.0065\n",
            "Epoch 269/300\n",
            "11/11 [==============================] - 0s 8ms/step - loss: 0.0029 - val_loss: 0.0065\n",
            "Epoch 270/300\n",
            "11/11 [==============================] - 0s 9ms/step - loss: 0.0030 - val_loss: 0.0065\n",
            "Epoch 271/300\n",
            "11/11 [==============================] - 0s 9ms/step - loss: 0.0035 - val_loss: 0.0065\n",
            "Epoch 272/300\n",
            "11/11 [==============================] - 0s 9ms/step - loss: 0.0043 - val_loss: 0.0065\n",
            "Epoch 273/300\n",
            "11/11 [==============================] - 0s 9ms/step - loss: 0.0037 - val_loss: 0.0065\n",
            "Epoch 274/300\n",
            "11/11 [==============================] - 0s 10ms/step - loss: 0.0045 - val_loss: 0.0065\n",
            "Epoch 275/300\n",
            "11/11 [==============================] - 0s 9ms/step - loss: 0.0033 - val_loss: 0.0065\n",
            "Epoch 276/300\n",
            "11/11 [==============================] - 0s 9ms/step - loss: 0.0038 - val_loss: 0.0065\n",
            "Epoch 277/300\n",
            "11/11 [==============================] - 0s 9ms/step - loss: 0.0046 - val_loss: 0.0065\n",
            "Epoch 278/300\n",
            "11/11 [==============================] - 0s 9ms/step - loss: 0.0032 - val_loss: 0.0065\n",
            "Epoch 279/300\n",
            "11/11 [==============================] - 0s 8ms/step - loss: 0.0048 - val_loss: 0.0065\n",
            "Epoch 280/300\n",
            "11/11 [==============================] - 0s 8ms/step - loss: 0.0043 - val_loss: 0.0065\n",
            "Epoch 281/300\n",
            "11/11 [==============================] - 0s 9ms/step - loss: 0.0037 - val_loss: 0.0065\n",
            "Epoch 282/300\n",
            "11/11 [==============================] - 0s 11ms/step - loss: 0.0040 - val_loss: 0.0064\n",
            "Epoch 283/300\n",
            "11/11 [==============================] - 0s 10ms/step - loss: 0.0038 - val_loss: 0.0064\n",
            "Epoch 284/300\n",
            "11/11 [==============================] - 0s 10ms/step - loss: 0.0055 - val_loss: 0.0065\n",
            "Epoch 285/300\n",
            "11/11 [==============================] - 0s 8ms/step - loss: 0.0039 - val_loss: 0.0065\n",
            "Epoch 286/300\n",
            "11/11 [==============================] - 0s 9ms/step - loss: 0.0032 - val_loss: 0.0065\n",
            "Epoch 287/300\n",
            "11/11 [==============================] - 0s 9ms/step - loss: 0.0067 - val_loss: 0.0064\n",
            "Epoch 288/300\n",
            "11/11 [==============================] - 0s 8ms/step - loss: 0.0034 - val_loss: 0.0065\n",
            "Epoch 289/300\n",
            "11/11 [==============================] - 0s 9ms/step - loss: 0.0035 - val_loss: 0.0065\n",
            "Epoch 290/300\n",
            "11/11 [==============================] - 0s 9ms/step - loss: 0.0041 - val_loss: 0.0065\n",
            "Epoch 291/300\n",
            "11/11 [==============================] - 0s 9ms/step - loss: 0.0041 - val_loss: 0.0065\n",
            "Epoch 292/300\n",
            "11/11 [==============================] - 0s 10ms/step - loss: 0.0048 - val_loss: 0.0065\n",
            "Epoch 293/300\n",
            "11/11 [==============================] - 0s 9ms/step - loss: 0.0032 - val_loss: 0.0064\n",
            "Epoch 294/300\n",
            "11/11 [==============================] - 0s 9ms/step - loss: 0.0049 - val_loss: 0.0065\n",
            "Epoch 295/300\n",
            "11/11 [==============================] - 0s 9ms/step - loss: 0.0034 - val_loss: 0.0064\n",
            "Epoch 296/300\n",
            "11/11 [==============================] - 0s 9ms/step - loss: 0.0040 - val_loss: 0.0065\n",
            "Epoch 297/300\n",
            "11/11 [==============================] - 0s 10ms/step - loss: 0.0063 - val_loss: 0.0065\n",
            "Epoch 298/300\n",
            "11/11 [==============================] - 0s 9ms/step - loss: 0.0036 - val_loss: 0.0065\n",
            "Epoch 299/300\n",
            "11/11 [==============================] - 0s 10ms/step - loss: 0.0034 - val_loss: 0.0064\n",
            "Epoch 300/300\n",
            "11/11 [==============================] - 0s 9ms/step - loss: 0.0039 - val_loss: 0.0064\n"
          ],
          "name": "stdout"
        }
      ]
    },
    {
      "cell_type": "code",
      "metadata": {
        "execution": {
          "iopub.execute_input": "2021-06-06T16:36:39.833972Z",
          "iopub.status.busy": "2021-06-06T16:36:39.833462Z",
          "iopub.status.idle": "2021-06-06T16:36:39.994242Z",
          "shell.execute_reply": "2021-06-06T16:36:39.993824Z"
        },
        "papermill": {
          "duration": 0.381037,
          "end_time": "2021-06-06T16:36:39.994355",
          "exception": false,
          "start_time": "2021-06-06T16:36:39.613318",
          "status": "completed"
        },
        "tags": [],
        "colab": {
          "base_uri": "https://localhost:8080/",
          "height": 282
        },
        "id": "greatest-smell",
        "outputId": "e7bcfbb7-c714-4c5d-8462-c094db761ebe"
      },
      "source": [
        "history_df = pd.DataFrame(history.history)\n",
        "history_df.loc[:, ['loss', 'val_loss']].plot()"
      ],
      "id": "greatest-smell",
      "execution_count": 40,
      "outputs": [
        {
          "output_type": "execute_result",
          "data": {
            "text/plain": [
              "<matplotlib.axes._subplots.AxesSubplot at 0x7f0c9d5ef810>"
            ]
          },
          "metadata": {
            "tags": []
          },
          "execution_count": 40
        },
        {
          "output_type": "display_data",
          "data": {
            "image/png": "[encoded data removed]",
            "text/plain": [
              "<Figure size 432x288 with 1 Axes>"
            ]
          },
          "metadata": {
            "tags": [],
            "needs_background": "light"
          }
        }
      ]
    },
    {
      "cell_type": "code",
      "metadata": {
        "execution": {
          "iopub.execute_input": "2021-06-06T16:36:40.429630Z",
          "iopub.status.busy": "2021-06-06T16:36:40.429133Z",
          "iopub.status.idle": "2021-06-06T16:36:40.733157Z",
          "shell.execute_reply": "2021-06-06T16:36:40.732743Z"
        },
        "papermill": {
          "duration": 0.523246,
          "end_time": "2021-06-06T16:36:40.733261",
          "exception": false,
          "start_time": "2021-06-06T16:36:40.210015",
          "status": "completed"
        },
        "tags": [],
        "colab": {
          "base_uri": "https://localhost:8080/"
        },
        "id": "fixed-charm",
        "outputId": "7375f0a6-d04a-4151-f316-a819b9e2af28"
      },
      "source": [
        "targets = test_data[target_col][window_len:]\n",
        "preds = model.predict(X_test).squeeze()\n",
        "mean_absolute_error(preds, y_test)"
      ],
      "id": "fixed-charm",
      "execution_count": 41,
      "outputs": [
        {
          "output_type": "execute_result",
          "data": {
            "text/plain": [
              "0.05973312060391132"
            ]
          },
          "metadata": {
            "tags": []
          },
          "execution_count": 41
        }
      ]
    },
    {
      "cell_type": "markdown",
      "metadata": {
        "id": "e4WjysZ-z-Q4"
      },
      "source": [
        "**Mean absolute error is 0.059**"
      ],
      "id": "e4WjysZ-z-Q4"
    },
    {
      "cell_type": "code",
      "metadata": {
        "execution": {
          "iopub.execute_input": "2021-06-06T16:36:41.177259Z",
          "iopub.status.busy": "2021-06-06T16:36:41.176809Z",
          "iopub.status.idle": "2021-06-06T16:36:41.179136Z",
          "shell.execute_reply": "2021-06-06T16:36:41.178721Z"
        },
        "papermill": {
          "duration": 0.228014,
          "end_time": "2021-06-06T16:36:41.179228",
          "exception": false,
          "start_time": "2021-06-06T16:36:40.951214",
          "status": "completed"
        },
        "tags": [],
        "id": "instrumental-kenya"
      },
      "source": [
        "preds = test_data[target_col].values[:-window_len] * (preds + 1)\n",
        "preds = pd.Series(index=targets.index, data=preds)"
      ],
      "id": "instrumental-kenya",
      "execution_count": 42,
      "outputs": []
    },
    {
      "cell_type": "code",
      "metadata": {
        "execution": {
          "iopub.execute_input": "2021-06-06T16:36:41.617166Z",
          "iopub.status.busy": "2021-06-06T16:36:41.616706Z",
          "iopub.status.idle": "2021-06-06T16:36:41.782424Z",
          "shell.execute_reply": "2021-06-06T16:36:41.782924Z"
        },
        "papermill": {
          "duration": 0.388576,
          "end_time": "2021-06-06T16:36:41.783085",
          "exception": false,
          "start_time": "2021-06-06T16:36:41.394509",
          "status": "completed"
        },
        "tags": [],
        "colab": {
          "base_uri": "https://localhost:8080/",
          "height": 463
        },
        "id": "portuguese-glass",
        "outputId": "078bf95c-064f-45f9-d99e-d03a99a597cc"
      },
      "source": [
        "fig, ax = plt.subplots(1, figsize=(13, 7))\n",
        "ax.plot(targets, label='actual', linewidth=2 , color = 'r')\n",
        "ax.plot(preds, label='prediction', linewidth=2 , color = 'b')\n",
        "ax.set_ylabel('price [EUR]', fontsize=14)\n",
        "ax.set_title('Actual Prices VS Predictions', fontsize=16)\n",
        "ax.legend(loc='best', fontsize=16)"
      ],
      "id": "portuguese-glass",
      "execution_count": 45,
      "outputs": [
        {
          "output_type": "execute_result",
          "data": {
            "text/plain": [
              "<matplotlib.legend.Legend at 0x7f0c96e80fd0>"
            ]
          },
          "metadata": {
            "tags": []
          },
          "execution_count": 45
        },
        {
          "output_type": "display_data",
          "data": {
            "image/png": "[encoded data removed]",
            "text/plain": [
              "<Figure size 936x504 with 1 Axes>"
            ]
          },
          "metadata": {
            "tags": [],
            "needs_background": "light"
          }
        }
      ]
    }
  ]
}